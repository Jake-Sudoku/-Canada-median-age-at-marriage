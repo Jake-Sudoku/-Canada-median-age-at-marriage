{
 "cells": [
  {
   "cell_type": "markdown",
   "id": "af3016c0",
   "metadata": {},
   "source": [
    "# Canada Marriage project"
   ]
  },
  {
   "cell_type": "markdown",
   "id": "8bb22722",
   "metadata": {},
   "source": [
    "## 01-Cleaning and checking data"
   ]
  },
  {
   "cell_type": "code",
   "execution_count": 1,
   "id": "05674395",
   "metadata": {},
   "outputs": [],
   "source": [
    "#Importing what I need for the dataset : numpy, pandas and matplotlib.pyplot,re\n",
    "import numpy as np\n",
    "import pandas as pd\n",
    "import matplotlib.pyplot as plt\n",
    "import re as re"
   ]
  },
  {
   "cell_type": "code",
   "execution_count": 2,
   "id": "8253b06c",
   "metadata": {},
   "outputs": [
    {
     "name": "stdout",
     "output_type": "stream",
     "text": [
      "      REF_DATE      GEO        DGUID Sex or Gender               Indicator  \\\n",
      "8158      2020  Nunavut  2016A000262       Females    Mean age at marriage   \n",
      "8159      2020  Nunavut  2016A000262       Females  Median age at marriage   \n",
      "\n",
      "        UOM  UOM_ID SCALAR_FACTOR  SCALAR_ID       VECTOR COORDINATE  VALUE  \\\n",
      "8158  Years     308         units          0  v1331244512     15.3.3    NaN   \n",
      "8159  Years     308         units          0  v1331244513     15.3.4    NaN   \n",
      "\n",
      "     STATUS  SYMBOL TERMINATED  DECIMALS  \n",
      "8158      x     NaN        NaN         1  \n",
      "8159      x     NaN        NaN         1  \n",
      "   REF_DATE     GEO           DGUID Sex or Gender              Indicator  \\\n",
      "0      1970  Canada  2016A000011124    Both sexes    Mean age at divorce   \n",
      "1      1970  Canada  2016A000011124    Both sexes  Median age at divorce   \n",
      "\n",
      "     UOM  UOM_ID SCALAR_FACTOR  SCALAR_ID       VECTOR COORDINATE  VALUE  \\\n",
      "0  Years     308         units          0  v1331244494      1.1.1   38.8   \n",
      "1  Years     308         units          0  v1331244495      1.1.2   37.1   \n",
      "\n",
      "  STATUS  SYMBOL TERMINATED  DECIMALS  \n",
      "0    NaN     NaN        NaN         1  \n",
      "1    NaN     NaN        NaN         1  \n"
     ]
    }
   ],
   "source": [
    "#Read data file : df=pd.read_csv(\"_filename_at_same_location_.csv\")\n",
    "df=pd.read_csv(\"00-Uncleaned Dataset - 39100052 python.csv\")\n",
    "\n",
    "#Check results at tail end : .tail(number of rows)\n",
    "print(df.tail(2))\n",
    "\n",
    "#Check results at front end : .head(number of rows)\n",
    "print(df.head(2))"
   ]
  },
  {
   "cell_type": "code",
   "execution_count": 3,
   "id": "db7ca7df",
   "metadata": {},
   "outputs": [
    {
     "name": "stdout",
     "output_type": "stream",
     "text": [
      "Index(['REF_DATE', 'GEO', 'DGUID', 'Sex or Gender', 'Indicator', 'UOM',\n",
      "       'UOM_ID', 'SCALAR_FACTOR', 'SCALAR_ID', 'VECTOR', 'COORDINATE', 'VALUE',\n",
      "       'STATUS', 'SYMBOL', 'TERMINATED', 'DECIMALS'],\n",
      "      dtype='object')\n"
     ]
    }
   ],
   "source": [
    "#Check columns names : .columns\n",
    "print(df.columns)"
   ]
  },
  {
   "cell_type": "code",
   "execution_count": 4,
   "id": "2bdf455a",
   "metadata": {},
   "outputs": [
    {
     "data": {
      "text/plain": [
       "REF_DATE            0\n",
       "GEO                 0\n",
       "DGUID               0\n",
       "Sex or Gender       0\n",
       "Indicator           0\n",
       "UOM                 0\n",
       "UOM_ID              0\n",
       "SCALAR_FACTOR       0\n",
       "SCALAR_ID           0\n",
       "VECTOR              0\n",
       "COORDINATE          0\n",
       "VALUE             106\n",
       "STATUS           8054\n",
       "SYMBOL           8160\n",
       "TERMINATED       7800\n",
       "DECIMALS            0\n",
       "dtype: int64"
      ]
     },
     "execution_count": 4,
     "metadata": {},
     "output_type": "execute_result"
    }
   ],
   "source": [
    "#check none/missing values: ds.isna().sum()\n",
    "#all the values are replaced with a Boolean value True for NA (not-a -number) values, and otherwise False\n",
    "#if there is number, it means missing values\n",
    "df.isna().sum()"
   ]
  },
  {
   "cell_type": "code",
   "execution_count": 5,
   "id": "84db42c3",
   "metadata": {},
   "outputs": [
    {
     "data": {
      "text/plain": [
       "REF_DATE           int64\n",
       "GEO               object\n",
       "DGUID             object\n",
       "Sex or Gender     object\n",
       "Indicator         object\n",
       "UOM               object\n",
       "UOM_ID             int64\n",
       "SCALAR_FACTOR     object\n",
       "SCALAR_ID          int64\n",
       "VECTOR            object\n",
       "COORDINATE        object\n",
       "VALUE            float64\n",
       "STATUS            object\n",
       "SYMBOL           float64\n",
       "TERMINATED        object\n",
       "DECIMALS           int64\n",
       "dtype: object"
      ]
     },
     "execution_count": 5,
     "metadata": {},
     "output_type": "execute_result"
    }
   ],
   "source": [
    "#check the data type(strings or numbers) in the column : .dtypes\n",
    "df.dtypes"
   ]
  },
  {
   "cell_type": "code",
   "execution_count": 6,
   "id": "ad1ea293",
   "metadata": {},
   "outputs": [
    {
     "data": {
      "text/plain": [
       "0       False\n",
       "1       False\n",
       "2       False\n",
       "3       False\n",
       "4       False\n",
       "        ...  \n",
       "8155    False\n",
       "8156    False\n",
       "8157    False\n",
       "8158    False\n",
       "8159    False\n",
       "Length: 8160, dtype: bool"
      ]
     },
     "execution_count": 6,
     "metadata": {},
     "output_type": "execute_result"
    }
   ],
   "source": [
    "#check duplicates\n",
    "df.duplicated()"
   ]
  },
  {
   "cell_type": "code",
   "execution_count": 7,
   "id": "75896045",
   "metadata": {},
   "outputs": [
    {
     "name": "stdout",
     "output_type": "stream",
     "text": [
      "{'median', 'marriage', 'age', 'at', 'divorce', 'mean'}\n"
     ]
    }
   ],
   "source": [
    "#check unique words in indicator before applying filter :\n",
    "#https://stackoverflow.com/questions/18936957/count-distinct-words-from-a-pandas-data-frame\n",
    "\n",
    "results=set()\n",
    "df['Indicator'].str.lower().str.split().apply(results.update)\n",
    "print(results)"
   ]
  },
  {
   "cell_type": "code",
   "execution_count": 8,
   "id": "97390b5f",
   "metadata": {
    "scrolled": false
   },
   "outputs": [
    {
     "name": "stdout",
     "output_type": "stream",
     "text": [
      "\n",
      "Extract unique sentences :\n",
      "      REF_DATE      GEO           DGUID Sex or Gender               Indicator  \\\n",
      "0         1970   Canada  2016A000011124    Both sexes     Mean age at divorce   \n",
      "1         1970   Canada  2016A000011124    Both sexes   Median age at divorce   \n",
      "2         1970   Canada  2016A000011124    Both sexes    Mean age at marriage   \n",
      "3         1970   Canada  2016A000011124    Both sexes  Median age at marriage   \n",
      "4         1970   Canada  2016A000011124         Males     Mean age at divorce   \n",
      "...        ...      ...             ...           ...                     ...   \n",
      "8155      2020  Nunavut     2016A000262         Males  Median age at marriage   \n",
      "8156      2020  Nunavut     2016A000262       Females     Mean age at divorce   \n",
      "8157      2020  Nunavut     2016A000262       Females   Median age at divorce   \n",
      "8158      2020  Nunavut     2016A000262       Females    Mean age at marriage   \n",
      "8159      2020  Nunavut     2016A000262       Females  Median age at marriage   \n",
      "\n",
      "        UOM  UOM_ID SCALAR_FACTOR  SCALAR_ID       VECTOR COORDINATE  VALUE  \\\n",
      "0     Years     308         units          0  v1331244494      1.1.1   38.8   \n",
      "1     Years     308         units          0  v1331244495      1.1.2   37.1   \n",
      "2     Years     308         units          0  v1331244496      1.1.3   23.6   \n",
      "3     Years     308         units          0  v1331244497      1.1.4   22.0   \n",
      "4     Years     308         units          0  v1331244490      1.2.1   40.3   \n",
      "...     ...     ...           ...        ...          ...        ...    ...   \n",
      "8155  Years     308         units          0  v1331244517     15.2.4    NaN   \n",
      "8156  Years     308         units          0  v1331244510     15.3.1    NaN   \n",
      "8157  Years     308         units          0  v1331244511     15.3.2    NaN   \n",
      "8158  Years     308         units          0  v1331244512     15.3.3    NaN   \n",
      "8159  Years     308         units          0  v1331244513     15.3.4    NaN   \n",
      "\n",
      "     STATUS  SYMBOL TERMINATED  DECIMALS           unique_sentence  \n",
      "0       NaN     NaN        NaN         1     [Mean age at divorce]  \n",
      "1       NaN     NaN        NaN         1   [Median age at divorce]  \n",
      "2       NaN     NaN        NaN         1    [Mean age at marriage]  \n",
      "3       NaN     NaN        NaN         1  [Median age at marriage]  \n",
      "4       NaN     NaN        NaN         1     [Mean age at divorce]  \n",
      "...     ...     ...        ...       ...                       ...  \n",
      "8155      x     NaN        NaN         1  [Median age at marriage]  \n",
      "8156      x     NaN        NaN         1     [Mean age at divorce]  \n",
      "8157      x     NaN        NaN         1   [Median age at divorce]  \n",
      "8158      x     NaN        NaN         1    [Mean age at marriage]  \n",
      "8159      x     NaN        NaN         1  [Median age at marriage]  \n",
      "\n",
      "[8160 rows x 17 columns]\n"
     ]
    }
   ],
   "source": [
    "#check unique sentences in indicator before applying filter : \n",
    "#https://www.w3resource.com/python-exercises/pandas/string/python-pandas-string-exercise-39.php\n",
    "\n",
    "def find_unique_sentence(str1):\n",
    "    result = re.findall(r'(?sm)(^[^\\r\\n]+$)(?!.*^\\1$)', str1)\n",
    "    return result\n",
    "\n",
    "df['unique_sentence']=df['Indicator'].apply(lambda st : find_unique_sentence(st))\n",
    "print(\"\\nExtract unique sentences :\")\n",
    "print(df)"
   ]
  },
  {
   "cell_type": "code",
   "execution_count": 9,
   "id": "f8a3e31d",
   "metadata": {},
   "outputs": [
    {
     "name": "stdout",
     "output_type": "stream",
     "text": [
      "[list(['Mean age at divorce']) list(['Mean age at marriage'])\n",
      " list(['Median age at divorce']) list(['Median age at marriage'])]\n",
      "['Mean age at divorce' 'Mean age at marriage' 'Median age at divorce'\n",
      " 'Median age at marriage']\n"
     ]
    }
   ],
   "source": [
    "#check unique sentences part 2 : https://www.pythonpool.com/python-count-unique-values-in-list/\n",
    "unique_sentences=np.unique(df['unique_sentence'])\n",
    "print(unique_sentences)\n",
    "\n",
    "#To counter check with indicators to see if it totally matches\n",
    "unique_sentences_indicator=np.unique(df[\"Indicator\"])\n",
    "print(unique_sentences_indicator)"
   ]
  },
  {
   "cell_type": "code",
   "execution_count": 10,
   "id": "82576c77",
   "metadata": {},
   "outputs": [
    {
     "name": "stdout",
     "output_type": "stream",
     "text": [
      "      REF_DATE      GEO               Indicator  VALUE\n",
      "0         1970   Canada     Mean age at divorce   38.8\n",
      "1         1970   Canada   Median age at divorce   37.1\n",
      "2         1970   Canada    Mean age at marriage   23.6\n",
      "3         1970   Canada  Median age at marriage   22.0\n",
      "4         1970   Canada     Mean age at divorce   40.3\n",
      "...        ...      ...                     ...    ...\n",
      "8155      2020  Nunavut  Median age at marriage    NaN\n",
      "8156      2020  Nunavut     Mean age at divorce    NaN\n",
      "8157      2020  Nunavut   Median age at divorce    NaN\n",
      "8158      2020  Nunavut    Mean age at marriage    NaN\n",
      "8159      2020  Nunavut  Median age at marriage    NaN\n",
      "\n",
      "[8160 rows x 4 columns]\n"
     ]
    }
   ],
   "source": [
    "#Show only revelent columns : ds_subset=ds[[\"columns name1\",\"column name2\",etc]]\n",
    "df_subset=df[[\"REF_DATE\",\"GEO\",\"Indicator\",\"VALUE\"]]\n",
    "\n",
    "#Print results\n",
    "print(df_subset)"
   ]
  },
  {
   "cell_type": "code",
   "execution_count": 11,
   "id": "fde6bec6",
   "metadata": {},
   "outputs": [
    {
     "name": "stdout",
     "output_type": "stream",
     "text": [
      "      REF_DATE                        GEO               Indicator  VALUE\n",
      "3         1970                     Canada  Median age at marriage   22.0\n",
      "7         1970                     Canada  Median age at marriage   23.3\n",
      "11        1970                     Canada  Median age at marriage   20.5\n",
      "15        1970  Newfoundland and Labrador  Median age at marriage   21.7\n",
      "19        1970  Newfoundland and Labrador  Median age at marriage   22.6\n",
      "...        ...                        ...                     ...    ...\n",
      "8143      2020      Northwest Territories  Median age at marriage   27.7\n",
      "8147      2020      Northwest Territories  Median age at marriage   27.0\n",
      "8151      2020                    Nunavut  Median age at marriage    NaN\n",
      "8155      2020                    Nunavut  Median age at marriage    NaN\n",
      "8159      2020                    Nunavut  Median age at marriage    NaN\n",
      "\n",
      "[2040 rows x 4 columns]\n"
     ]
    }
   ],
   "source": [
    "#Filter required data in 1 specific column : \n",
    "#b=a[(a[\"Column name\"]=='words to filter1')|(a[\"Column name\"]=='words to filter2')]\n",
    "\n",
    "df_median_marriage=df_subset[(df_subset['Indicator']=='Median age at marriage')]\n",
    "\n",
    "#Check results\n",
    "print(df_median_marriage)"
   ]
  },
  {
   "cell_type": "code",
   "execution_count": 12,
   "id": "2601be9f",
   "metadata": {},
   "outputs": [
    {
     "data": {
      "text/plain": [
       "25"
      ]
     },
     "execution_count": 12,
     "metadata": {},
     "output_type": "execute_result"
    }
   ],
   "source": [
    "#Count total missing values in column \"VALUE\"\n",
    "#https://www.pythonpool.com/python-count-unique-values-in-list/\n",
    "df_median_marriage[\"VALUE\"].isnull().sum()"
   ]
  },
  {
   "cell_type": "code",
   "execution_count": 13,
   "id": "d6363731",
   "metadata": {},
   "outputs": [
    {
     "data": {
      "text/html": [
       "<div>\n",
       "<style scoped>\n",
       "    .dataframe tbody tr th:only-of-type {\n",
       "        vertical-align: middle;\n",
       "    }\n",
       "\n",
       "    .dataframe tbody tr th {\n",
       "        vertical-align: top;\n",
       "    }\n",
       "\n",
       "    .dataframe thead th {\n",
       "        text-align: right;\n",
       "    }\n",
       "</style>\n",
       "<table border=\"1\" class=\"dataframe\">\n",
       "  <thead>\n",
       "    <tr style=\"text-align: right;\">\n",
       "      <th></th>\n",
       "      <th>REF_DATE</th>\n",
       "      <th>GEO</th>\n",
       "      <th>Indicator</th>\n",
       "      <th>VALUE</th>\n",
       "    </tr>\n",
       "  </thead>\n",
       "  <tbody>\n",
       "    <tr>\n",
       "      <th>4843</th>\n",
       "      <td>2000</td>\n",
       "      <td>Nunavut</td>\n",
       "      <td>Median age at marriage</td>\n",
       "      <td>NaN</td>\n",
       "    </tr>\n",
       "    <tr>\n",
       "      <th>4847</th>\n",
       "      <td>2000</td>\n",
       "      <td>Nunavut</td>\n",
       "      <td>Median age at marriage</td>\n",
       "      <td>NaN</td>\n",
       "    </tr>\n",
       "    <tr>\n",
       "      <th>5011</th>\n",
       "      <td>2001</td>\n",
       "      <td>Nunavut</td>\n",
       "      <td>Median age at marriage</td>\n",
       "      <td>NaN</td>\n",
       "    </tr>\n",
       "    <tr>\n",
       "      <th>5015</th>\n",
       "      <td>2001</td>\n",
       "      <td>Nunavut</td>\n",
       "      <td>Median age at marriage</td>\n",
       "      <td>NaN</td>\n",
       "    </tr>\n",
       "    <tr>\n",
       "      <th>5179</th>\n",
       "      <td>2002</td>\n",
       "      <td>Nunavut</td>\n",
       "      <td>Median age at marriage</td>\n",
       "      <td>NaN</td>\n",
       "    </tr>\n",
       "    <tr>\n",
       "      <th>5183</th>\n",
       "      <td>2002</td>\n",
       "      <td>Nunavut</td>\n",
       "      <td>Median age at marriage</td>\n",
       "      <td>NaN</td>\n",
       "    </tr>\n",
       "    <tr>\n",
       "      <th>5347</th>\n",
       "      <td>2003</td>\n",
       "      <td>Nunavut</td>\n",
       "      <td>Median age at marriage</td>\n",
       "      <td>NaN</td>\n",
       "    </tr>\n",
       "    <tr>\n",
       "      <th>5351</th>\n",
       "      <td>2003</td>\n",
       "      <td>Nunavut</td>\n",
       "      <td>Median age at marriage</td>\n",
       "      <td>NaN</td>\n",
       "    </tr>\n",
       "    <tr>\n",
       "      <th>6523</th>\n",
       "      <td>2010</td>\n",
       "      <td>Nunavut</td>\n",
       "      <td>Median age at marriage</td>\n",
       "      <td>NaN</td>\n",
       "    </tr>\n",
       "    <tr>\n",
       "      <th>6527</th>\n",
       "      <td>2010</td>\n",
       "      <td>Nunavut</td>\n",
       "      <td>Median age at marriage</td>\n",
       "      <td>NaN</td>\n",
       "    </tr>\n",
       "    <tr>\n",
       "      <th>6691</th>\n",
       "      <td>2011</td>\n",
       "      <td>Nunavut</td>\n",
       "      <td>Median age at marriage</td>\n",
       "      <td>NaN</td>\n",
       "    </tr>\n",
       "    <tr>\n",
       "      <th>6695</th>\n",
       "      <td>2011</td>\n",
       "      <td>Nunavut</td>\n",
       "      <td>Median age at marriage</td>\n",
       "      <td>NaN</td>\n",
       "    </tr>\n",
       "    <tr>\n",
       "      <th>6859</th>\n",
       "      <td>2012</td>\n",
       "      <td>Nunavut</td>\n",
       "      <td>Median age at marriage</td>\n",
       "      <td>NaN</td>\n",
       "    </tr>\n",
       "    <tr>\n",
       "      <th>6863</th>\n",
       "      <td>2012</td>\n",
       "      <td>Nunavut</td>\n",
       "      <td>Median age at marriage</td>\n",
       "      <td>NaN</td>\n",
       "    </tr>\n",
       "    <tr>\n",
       "      <th>7027</th>\n",
       "      <td>2013</td>\n",
       "      <td>Nunavut</td>\n",
       "      <td>Median age at marriage</td>\n",
       "      <td>NaN</td>\n",
       "    </tr>\n",
       "    <tr>\n",
       "      <th>7031</th>\n",
       "      <td>2013</td>\n",
       "      <td>Nunavut</td>\n",
       "      <td>Median age at marriage</td>\n",
       "      <td>NaN</td>\n",
       "    </tr>\n",
       "    <tr>\n",
       "      <th>7195</th>\n",
       "      <td>2014</td>\n",
       "      <td>Nunavut</td>\n",
       "      <td>Median age at marriage</td>\n",
       "      <td>NaN</td>\n",
       "    </tr>\n",
       "    <tr>\n",
       "      <th>7199</th>\n",
       "      <td>2014</td>\n",
       "      <td>Nunavut</td>\n",
       "      <td>Median age at marriage</td>\n",
       "      <td>NaN</td>\n",
       "    </tr>\n",
       "    <tr>\n",
       "      <th>7363</th>\n",
       "      <td>2015</td>\n",
       "      <td>Nunavut</td>\n",
       "      <td>Median age at marriage</td>\n",
       "      <td>NaN</td>\n",
       "    </tr>\n",
       "    <tr>\n",
       "      <th>7367</th>\n",
       "      <td>2015</td>\n",
       "      <td>Nunavut</td>\n",
       "      <td>Median age at marriage</td>\n",
       "      <td>NaN</td>\n",
       "    </tr>\n",
       "    <tr>\n",
       "      <th>7699</th>\n",
       "      <td>2017</td>\n",
       "      <td>Nunavut</td>\n",
       "      <td>Median age at marriage</td>\n",
       "      <td>NaN</td>\n",
       "    </tr>\n",
       "    <tr>\n",
       "      <th>7703</th>\n",
       "      <td>2017</td>\n",
       "      <td>Nunavut</td>\n",
       "      <td>Median age at marriage</td>\n",
       "      <td>NaN</td>\n",
       "    </tr>\n",
       "    <tr>\n",
       "      <th>8151</th>\n",
       "      <td>2020</td>\n",
       "      <td>Nunavut</td>\n",
       "      <td>Median age at marriage</td>\n",
       "      <td>NaN</td>\n",
       "    </tr>\n",
       "    <tr>\n",
       "      <th>8155</th>\n",
       "      <td>2020</td>\n",
       "      <td>Nunavut</td>\n",
       "      <td>Median age at marriage</td>\n",
       "      <td>NaN</td>\n",
       "    </tr>\n",
       "    <tr>\n",
       "      <th>8159</th>\n",
       "      <td>2020</td>\n",
       "      <td>Nunavut</td>\n",
       "      <td>Median age at marriage</td>\n",
       "      <td>NaN</td>\n",
       "    </tr>\n",
       "  </tbody>\n",
       "</table>\n",
       "</div>"
      ],
      "text/plain": [
       "      REF_DATE      GEO               Indicator  VALUE\n",
       "4843      2000  Nunavut  Median age at marriage    NaN\n",
       "4847      2000  Nunavut  Median age at marriage    NaN\n",
       "5011      2001  Nunavut  Median age at marriage    NaN\n",
       "5015      2001  Nunavut  Median age at marriage    NaN\n",
       "5179      2002  Nunavut  Median age at marriage    NaN\n",
       "5183      2002  Nunavut  Median age at marriage    NaN\n",
       "5347      2003  Nunavut  Median age at marriage    NaN\n",
       "5351      2003  Nunavut  Median age at marriage    NaN\n",
       "6523      2010  Nunavut  Median age at marriage    NaN\n",
       "6527      2010  Nunavut  Median age at marriage    NaN\n",
       "6691      2011  Nunavut  Median age at marriage    NaN\n",
       "6695      2011  Nunavut  Median age at marriage    NaN\n",
       "6859      2012  Nunavut  Median age at marriage    NaN\n",
       "6863      2012  Nunavut  Median age at marriage    NaN\n",
       "7027      2013  Nunavut  Median age at marriage    NaN\n",
       "7031      2013  Nunavut  Median age at marriage    NaN\n",
       "7195      2014  Nunavut  Median age at marriage    NaN\n",
       "7199      2014  Nunavut  Median age at marriage    NaN\n",
       "7363      2015  Nunavut  Median age at marriage    NaN\n",
       "7367      2015  Nunavut  Median age at marriage    NaN\n",
       "7699      2017  Nunavut  Median age at marriage    NaN\n",
       "7703      2017  Nunavut  Median age at marriage    NaN\n",
       "8151      2020  Nunavut  Median age at marriage    NaN\n",
       "8155      2020  Nunavut  Median age at marriage    NaN\n",
       "8159      2020  Nunavut  Median age at marriage    NaN"
      ]
     },
     "execution_count": 13,
     "metadata": {},
     "output_type": "execute_result"
    }
   ],
   "source": [
    "#Find missing values in which rows\n",
    "#https://www.youtube.com/watch?v=RI7WaQCzaUM at 1:15\n",
    "df_median_marriage[df_median_marriage.isnull().values.any(1)]"
   ]
  },
  {
   "cell_type": "code",
   "execution_count": 14,
   "id": "70ff55e0",
   "metadata": {},
   "outputs": [
    {
     "name": "stdout",
     "output_type": "stream",
     "text": [
      "['Alberta' 'British Columbia' 'Canada' 'Manitoba' 'New Brunswick'\n",
      " 'Newfoundland and Labrador' 'Northwest Territories'\n",
      " 'Northwest Territories including Nunavut' 'Nova Scotia' 'Nunavut'\n",
      " 'Ontario' 'Prince Edward Island' 'Quebec' 'Saskatchewan' 'Yukon']\n"
     ]
    }
   ],
   "source": [
    "#check unique words in geo:\n",
    "#https://stackoverflow.com/questions/18936957/count-distinct-words-from-a-pandas-data-frame\n",
    "\n",
    "unique_sentences_geo=np.unique(df[\"GEO\"])\n",
    "print(unique_sentences_geo)"
   ]
  },
  {
   "cell_type": "code",
   "execution_count": 15,
   "id": "6eb74bea",
   "metadata": {},
   "outputs": [
    {
     "data": {
      "text/html": [
       "<div>\n",
       "<style scoped>\n",
       "    .dataframe tbody tr th:only-of-type {\n",
       "        vertical-align: middle;\n",
       "    }\n",
       "\n",
       "    .dataframe tbody tr th {\n",
       "        vertical-align: top;\n",
       "    }\n",
       "\n",
       "    .dataframe thead th {\n",
       "        text-align: right;\n",
       "    }\n",
       "</style>\n",
       "<table border=\"1\" class=\"dataframe\">\n",
       "  <thead>\n",
       "    <tr style=\"text-align: right;\">\n",
       "      <th></th>\n",
       "      <th>REF_DATE</th>\n",
       "      <th>GEO</th>\n",
       "      <th>Indicator</th>\n",
       "      <th>VALUE</th>\n",
       "    </tr>\n",
       "  </thead>\n",
       "  <tbody>\n",
       "    <tr>\n",
       "      <th>3</th>\n",
       "      <td>1970</td>\n",
       "      <td>Canada</td>\n",
       "      <td>Median age at marriage</td>\n",
       "      <td>22.0</td>\n",
       "    </tr>\n",
       "    <tr>\n",
       "      <th>7</th>\n",
       "      <td>1970</td>\n",
       "      <td>Canada</td>\n",
       "      <td>Median age at marriage</td>\n",
       "      <td>23.3</td>\n",
       "    </tr>\n",
       "    <tr>\n",
       "      <th>11</th>\n",
       "      <td>1970</td>\n",
       "      <td>Canada</td>\n",
       "      <td>Median age at marriage</td>\n",
       "      <td>20.5</td>\n",
       "    </tr>\n",
       "    <tr>\n",
       "      <th>15</th>\n",
       "      <td>1970</td>\n",
       "      <td>Newfoundland and Labrador</td>\n",
       "      <td>Median age at marriage</td>\n",
       "      <td>21.7</td>\n",
       "    </tr>\n",
       "    <tr>\n",
       "      <th>19</th>\n",
       "      <td>1970</td>\n",
       "      <td>Newfoundland and Labrador</td>\n",
       "      <td>Median age at marriage</td>\n",
       "      <td>22.6</td>\n",
       "    </tr>\n",
       "    <tr>\n",
       "      <th>...</th>\n",
       "      <td>...</td>\n",
       "      <td>...</td>\n",
       "      <td>...</td>\n",
       "      <td>...</td>\n",
       "    </tr>\n",
       "    <tr>\n",
       "      <th>8131</th>\n",
       "      <td>2020</td>\n",
       "      <td>Yukon</td>\n",
       "      <td>Median age at marriage</td>\n",
       "      <td>30.4</td>\n",
       "    </tr>\n",
       "    <tr>\n",
       "      <th>8135</th>\n",
       "      <td>2020</td>\n",
       "      <td>Yukon</td>\n",
       "      <td>Median age at marriage</td>\n",
       "      <td>28.1</td>\n",
       "    </tr>\n",
       "    <tr>\n",
       "      <th>8139</th>\n",
       "      <td>2020</td>\n",
       "      <td>Northwest Territories</td>\n",
       "      <td>Median age at marriage</td>\n",
       "      <td>27.3</td>\n",
       "    </tr>\n",
       "    <tr>\n",
       "      <th>8143</th>\n",
       "      <td>2020</td>\n",
       "      <td>Northwest Territories</td>\n",
       "      <td>Median age at marriage</td>\n",
       "      <td>27.7</td>\n",
       "    </tr>\n",
       "    <tr>\n",
       "      <th>8147</th>\n",
       "      <td>2020</td>\n",
       "      <td>Northwest Territories</td>\n",
       "      <td>Median age at marriage</td>\n",
       "      <td>27.0</td>\n",
       "    </tr>\n",
       "  </tbody>\n",
       "</table>\n",
       "<p>2015 rows × 4 columns</p>\n",
       "</div>"
      ],
      "text/plain": [
       "      REF_DATE                        GEO               Indicator  VALUE\n",
       "3         1970                     Canada  Median age at marriage   22.0\n",
       "7         1970                     Canada  Median age at marriage   23.3\n",
       "11        1970                     Canada  Median age at marriage   20.5\n",
       "15        1970  Newfoundland and Labrador  Median age at marriage   21.7\n",
       "19        1970  Newfoundland and Labrador  Median age at marriage   22.6\n",
       "...        ...                        ...                     ...    ...\n",
       "8131      2020                      Yukon  Median age at marriage   30.4\n",
       "8135      2020                      Yukon  Median age at marriage   28.1\n",
       "8139      2020      Northwest Territories  Median age at marriage   27.3\n",
       "8143      2020      Northwest Territories  Median age at marriage   27.7\n",
       "8147      2020      Northwest Territories  Median age at marriage   27.0\n",
       "\n",
       "[2015 rows x 4 columns]"
      ]
     },
     "execution_count": 15,
     "metadata": {},
     "output_type": "execute_result"
    }
   ],
   "source": [
    "#remove missing values by rows : .dropna()\n",
    "#https://www.w3schools.com/python/pandas/ref_df_drop.asp\n",
    "#https://www.w3resource.com/pandas/dataframe/dataframe-dropna.php\n",
    "df_median_marriage.dropna()"
   ]
  },
  {
   "cell_type": "code",
   "execution_count": 16,
   "id": "a9c49dc2",
   "metadata": {},
   "outputs": [
    {
     "name": "stdout",
     "output_type": "stream",
     "text": [
      "['Alberta' 'British Columbia' 'Canada' 'Manitoba' 'New Brunswick'\n",
      " 'Newfoundland and Labrador' 'Northwest Territories'\n",
      " 'Northwest Territories including Nunavut' 'Nova Scotia' 'Nunavut'\n",
      " 'Ontario' 'Prince Edward Island' 'Quebec' 'Saskatchewan' 'Yukon']\n"
     ]
    }
   ],
   "source": [
    "#check removed results\n",
    "unique_sentences_geo1=np.unique(df_median_marriage[\"GEO\"])\n",
    "print(unique_sentences_geo1)"
   ]
  },
  {
   "cell_type": "code",
   "execution_count": 23,
   "id": "8492e4e6",
   "metadata": {},
   "outputs": [
    {
     "name": "stdout",
     "output_type": "stream",
     "text": [
      "      REF_DATE                        GEO               Indicator  VALUE\n",
      "15        1970  Newfoundland and Labrador  Median age at marriage   21.7\n",
      "19        1970  Newfoundland and Labrador  Median age at marriage   22.6\n",
      "23        1970  Newfoundland and Labrador  Median age at marriage   20.2\n",
      "27        1970       Prince Edward Island  Median age at marriage   21.2\n",
      "31        1970       Prince Edward Island  Median age at marriage   22.4\n",
      "...        ...                        ...                     ...    ...\n",
      "8143      2020      Northwest Territories  Median age at marriage   27.7\n",
      "8147      2020      Northwest Territories  Median age at marriage   27.0\n",
      "8151      2020                    Nunavut  Median age at marriage    NaN\n",
      "8155      2020                    Nunavut  Median age at marriage    NaN\n",
      "8159      2020                    Nunavut  Median age at marriage    NaN\n",
      "\n",
      "[1893 rows x 4 columns]\n",
      "      REF_DATE                        GEO               Indicator  VALUE\n",
      "15        1970  Newfoundland and Labrador  Median age at marriage   21.7\n",
      "19        1970  Newfoundland and Labrador  Median age at marriage   22.6\n",
      "23        1970  Newfoundland and Labrador  Median age at marriage   20.2\n",
      "27        1970       Prince Edward Island  Median age at marriage   21.2\n",
      "31        1970       Prince Edward Island  Median age at marriage   22.4\n",
      "...        ...                        ...                     ...    ...\n",
      "8143      2020      Northwest Territories  Median age at marriage   27.7\n",
      "8147      2020      Northwest Territories  Median age at marriage   27.0\n",
      "8151      2020                    Nunavut  Median age at marriage    NaN\n",
      "8155      2020                    Nunavut  Median age at marriage    NaN\n",
      "8159      2020                    Nunavut  Median age at marriage    NaN\n",
      "\n",
      "[1803 rows x 4 columns]\n"
     ]
    }
   ],
   "source": [
    "#filter out Northwest Territories including Nunavut and canada\n",
    "new_df_median_marriage=df_median_marriage[(df_median_marriage['GEO']!='Canada')]\n",
    "print(new_df_median_marriage)\n",
    "new_df_median_marriage=new_df_median_marriage[(new_df_median_marriage['GEO']!='Northwest Territories including Nunavut')]\n",
    "print(new_df_median_marriage)"
   ]
  },
  {
   "cell_type": "code",
   "execution_count": 24,
   "id": "5a3a5dbb",
   "metadata": {},
   "outputs": [
    {
     "name": "stdout",
     "output_type": "stream",
     "text": [
      "['Alberta' 'British Columbia' 'Manitoba' 'New Brunswick'\n",
      " 'Newfoundland and Labrador' 'Northwest Territories' 'Nova Scotia'\n",
      " 'Nunavut' 'Ontario' 'Prince Edward Island' 'Quebec' 'Saskatchewan'\n",
      " 'Yukon']\n"
     ]
    }
   ],
   "source": [
    "#check removed results\n",
    "unique_sentences_geo2=np.unique(new_df_median_marriage[\"GEO\"])\n",
    "print(unique_sentences_geo2)"
   ]
  },
  {
   "cell_type": "code",
   "execution_count": 46,
   "id": "1fb0a3c3",
   "metadata": {},
   "outputs": [
    {
     "data": {
      "image/png": "[encoded data removed]",
      "text/plain": [
       "<Figure size 432x288 with 1 Axes>"
      ]
     },
     "metadata": {
      "needs_background": "light"
     },
     "output_type": "display_data"
    },
    {
     "data": {
      "image/png": "[encoded data removed]",
      "text/plain": [
       "<Figure size 432x288 with 1 Axes>"
      ]
     },
     "metadata": {
      "needs_background": "light"
     },
     "output_type": "display_data"
    },
    {
     "data": {
      "image/png": "[encoded data removed]",
      "text/plain": [
       "<Figure size 432x288 with 1 Axes>"
      ]
     },
     "metadata": {
      "needs_background": "light"
     },
     "output_type": "display_data"
    }
   ],
   "source": [
    "#Checking the distribution of the 3 dataset at random\n",
    "\n",
    "h_albe=new_df_median_marriage.loc[new_df_median_marriage[\"GEO\"]==\"Alberta\",\"VALUE\"]\n",
    "plt.hist(h_albe)\n",
    "plt.show()\n",
    "\n",
    "h_peis=new_df_median_marriage.loc[new_df_median_marriage[\"GEO\"]==\"Prince Edward Island\",\"VALUE\"]\n",
    "plt.hist(h_peis)\n",
    "plt.show()\n",
    "\n",
    "h_nter=new_df_median_marriage.loc[new_df_median_marriage[\"GEO\"]==\"Northwest Territories\",\"VALUE\"]\n",
    "plt.hist(h_nter)\n",
    "plt.show()"
   ]
  },
  {
   "cell_type": "code",
   "execution_count": 45,
   "id": "957de0ab",
   "metadata": {},
   "outputs": [
    {
     "name": "stdout",
     "output_type": "stream",
     "text": [
      "24\n",
      "25\n",
      "23\n",
      "23\n",
      "27\n",
      "24\n",
      "23\n",
      "27\n",
      "24\n",
      "23\n",
      "24\n",
      "23\n",
      "25\n"
     ]
    }
   ],
   "source": [
    "#By random sample, we can see that the distribution is slightly right-skewed. \n",
    "#Therefore, median is used to calculate the dataset.\n",
    "\n",
    "med_albe=int(new_df_median_marriage.loc[new_df_median_marriage[\"GEO\"]==\"Alberta\",\"VALUE\"].median())\n",
    "print(med_albe)\n",
    "\n",
    "med_bcol=int(new_df_median_marriage.loc[new_df_median_marriage[\"GEO\"]==\"British Columbia\",\"VALUE\"].median())\n",
    "print(med_bcol)\n",
    "\n",
    "med_nbru=int(new_df_median_marriage.loc[new_df_median_marriage[\"GEO\"]==\"New Brunswick\",\"VALUE\"].median())\n",
    "print(med_nbru)\n",
    "\n",
    "med_nlab=int(new_df_median_marriage.loc[new_df_median_marriage[\"GEO\"]==\"Newfoundland and Labrador\",\"VALUE\"].median())\n",
    "print(med_nlab)\n",
    "\n",
    "med_nter=int(new_df_median_marriage.loc[new_df_median_marriage[\"GEO\"]==\"Northwest Territories\",\"VALUE\"].median())\n",
    "print(med_nter)\n",
    "\n",
    "med_mani=int(new_df_median_marriage.loc[new_df_median_marriage[\"GEO\"]==\"Manitoba\",\"VALUE\"].median())\n",
    "print(med_mani)\n",
    "\n",
    "med_nsco=int(new_df_median_marriage.loc[new_df_median_marriage[\"GEO\"]==\"Nova Scotia\",\"VALUE\"].median())\n",
    "print(med_nsco)\n",
    "\n",
    "med_nuna=int(new_df_median_marriage.loc[new_df_median_marriage[\"GEO\"]==\"Nunavut\",\"VALUE\"].median())\n",
    "print(med_nuna)\n",
    "\n",
    "med_onta=int(new_df_median_marriage.loc[new_df_median_marriage[\"GEO\"]==\"Ontario\",\"VALUE\"].median())\n",
    "print(med_onta)\n",
    "\n",
    "med_peis=int(new_df_median_marriage.loc[new_df_median_marriage[\"GEO\"]==\"Prince Edward Island\",\"VALUE\"].median())\n",
    "print(med_peis)\n",
    "\n",
    "med_queb=int(new_df_median_marriage.loc[new_df_median_marriage[\"GEO\"]==\"Quebec\",\"VALUE\"].median())\n",
    "print(med_queb)\n",
    "\n",
    "med_sask=int(new_df_median_marriage.loc[new_df_median_marriage[\"GEO\"]==\"Saskatchewan\",\"VALUE\"].median())\n",
    "print(med_sask)\n",
    "\n",
    "med_yuko=int(new_df_median_marriage.loc[new_df_median_marriage[\"GEO\"]==\"Yukon\",\"VALUE\"].median())\n",
    "print(med_yuko)"
   ]
  },
  {
   "cell_type": "code",
   "execution_count": 49,
   "id": "44f83440",
   "metadata": {},
   "outputs": [
    {
     "name": "stdout",
     "output_type": "stream",
     "text": [
      "{'Alberta': 24, 'British Columbia': 25, 'New Brunswick': 23, 'Newfoundland and Labrador': 23, 'Northwest Territories': 27, 'Manitoba': 24, 'Nova Scotia': 23, 'Nunavut': 27, 'Ontario': 24, 'Prince Edward Island': 23, 'Quebec': 24, 'Saskatchewan': 23, 'Yukon': 25}\n"
     ]
    }
   ],
   "source": [
    "#Store values in dict\n",
    "final_results={\n",
    "    \"Alberta\" : med_albe,\n",
    "    \"British Columbia\": med_bcol,\n",
    "    \"New Brunswick\": med_nbru,\n",
    "    \"Newfoundland and Labrador\": med_nlab,\n",
    "    \"Northwest Territories\": med_nter,\n",
    "    \"Manitoba\": med_mani,\n",
    "    \"Nova Scotia\": med_nsco,\n",
    "    \"Nunavut\": med_nuna,\n",
    "    \"Ontario\": med_onta,\n",
    "    \"Prince Edward Island\": med_peis,\n",
    "    \"Quebec\": med_queb,\n",
    "    \"Saskatchewan\": med_sask,\n",
    "    \"Yukon\": med_yuko\n",
    "}\n",
    "print(final_results)"
   ]
  },
  {
   "cell_type": "code",
   "execution_count": 53,
   "id": "63cc851f",
   "metadata": {},
   "outputs": [],
   "source": [
    "#Save to csv file format\n",
    "#formula - variable.to_csv(\"name of file.csv\", index=False-to remove index in file)\n",
    "df.to_csv(\"Project documentation.csv\",index=False)"
   ]
  },
  {
   "cell_type": "code",
   "execution_count": 63,
   "id": "aa2f0e23",
   "metadata": {},
   "outputs": [
    {
     "name": "stdout",
     "output_type": "stream",
     "text": [
      "                           Median age at Marriage\n",
      "Alberta                                        24\n",
      "British Columbia                               25\n",
      "New Brunswick                                  23\n",
      "Newfoundland and Labrador                      23\n",
      "Northwest Territories                          27\n",
      "Manitoba                                       24\n",
      "Nova Scotia                                    23\n",
      "Nunavut                                        27\n",
      "Ontario                                        24\n",
      "Prince Edward Island                           23\n",
      "Quebec                                         24\n",
      "Saskatchewan                                   23\n",
      "Yukon                                          25\n"
     ]
    }
   ],
   "source": [
    "#export final_results to csv format \n",
    "#https://stackoverflow.com/questions/28555112/export-a-simple-dictionary-into-excel-file-in-python\n",
    "#https://www.geeksforgeeks.org/pandas-dataframe-t-function-in-python/\n",
    "\n",
    "df_end_results = pd.DataFrame(data=final_results, index=[\"Median age at Marriage\"])\n",
    "\n",
    "#Transpose the results so that key value will be display at the left and values at the right\n",
    "df_end_results = (df_end_results.T)\n",
    "\n",
    "#check results before saving\n",
    "print (df_end_results)\n",
    "\n",
    "#saving to csv files\n",
    "df_end_results.to_csv('end_results.csv')"
   ]
  }
 ],
 "metadata": {
  "kernelspec": {
   "display_name": "Python 3 (ipykernel)",
   "language": "python",
   "name": "python3"
  },
  "language_info": {
   "codemirror_mode": {
    "name": "ipython",
    "version": 3
   },
   "file_extension": ".py",
   "mimetype": "text/x-python",
   "name": "python",
   "nbconvert_exporter": "python",
   "pygments_lexer": "ipython3",
   "version": "3.9.12"
  }
 },
 "nbformat": 4,
 "nbformat_minor": 5
}
